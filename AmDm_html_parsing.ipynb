{
 "cells": [
  {
   "cell_type": "markdown",
   "id": "99702fed-af82-46b1-a7f4-00f94d2bf36c",
   "metadata": {},
   "source": [
    "## Парсинг текстов песен с помощью HTML"
   ]
  },
  {
   "cell_type": "markdown",
   "id": "22f6d1e8",
   "metadata": {},
   "source": [
    "Дополнительные материалы по парсингу:\n",
    "* Небольшое видео: https://www.youtube.com/watch?v=7hn1_t2ZtJQ\n",
    "* Статья: https://habr.com/ru/companies/selectel/articles/754674/"
   ]
  },
  {
   "cell_type": "code",
   "execution_count": null,
   "id": "f4329b84",
   "metadata": {},
   "outputs": [],
   "source": [
    "!pip install beautifulsoup4"
   ]
  },
  {
   "cell_type": "code",
   "execution_count": null,
   "id": "ffe45bb5-b113-46c2-bdf5-2a35acbb7db8",
   "metadata": {},
   "outputs": [],
   "source": [
    "from bs4 import BeautifulSoup\n",
    "import requests\n",
    "import re"
   ]
  },
  {
   "cell_type": "code",
   "execution_count": null,
   "id": "cb8b52a6-db52-4c7d-8f95-620c63a23428",
   "metadata": {},
   "outputs": [],
   "source": [
    "songlist = requests.get('https://amdm.ru/akkordi/korol_i_shut/')"
   ]
  },
  {
   "cell_type": "code",
   "execution_count": null,
   "id": "d0baf8a2-b07f-494a-88e3-1ae6dfafd8e7",
   "metadata": {},
   "outputs": [],
   "source": [
    "songlist"
   ]
  },
  {
   "cell_type": "code",
   "execution_count": null,
   "id": "fe7686c0-c38d-456c-80bf-e3dd3dae190c",
   "metadata": {},
   "outputs": [],
   "source": [
    "a = BeautifulSoup(songlist.text, 'html.parser')"
   ]
  },
  {
   "cell_type": "code",
   "execution_count": null,
   "id": "b70fd765",
   "metadata": {},
   "outputs": [],
   "source": [
    "a.find_all('a', attrs = {'class' : 'g-link'})"
   ]
  },
  {
   "cell_type": "code",
   "execution_count": null,
   "id": "7f8ed5a6-13ad-4719-ab1b-1bb94a80e066",
   "metadata": {},
   "outputs": [],
   "source": [
    "all_page_songs = a.find_all('a', attrs = {'class' : 'g-link'})[1:]"
   ]
  },
  {
   "cell_type": "code",
   "execution_count": null,
   "id": "7b889e41-e3de-47c9-ba35-c476dbef5494",
   "metadata": {},
   "outputs": [],
   "source": [
    "all_page_songs[:5]"
   ]
  },
  {
   "cell_type": "code",
   "execution_count": null,
   "id": "18938237",
   "metadata": {},
   "outputs": [],
   "source": [
    "temp_tag = all_page_songs[5]\n",
    "temp_tag.get_attribute_list('href')\n",
    "# hyper reference"
   ]
  },
  {
   "cell_type": "code",
   "execution_count": null,
   "id": "c59fc113-d5ec-49eb-b5d0-7d3f86eefbdd",
   "metadata": {},
   "outputs": [],
   "source": [
    "song_links = []\n",
    "for i in all_page_songs:\n",
    "    if 'korol_i_shut' in str(i.get_attribute_list('href')):\n",
    "        song_links.append(i.get_attribute_list('href')[0])\n",
    "#     print(str('https:' + str(i.get_attribute_list('href')[0])))"
   ]
  },
  {
   "cell_type": "code",
   "execution_count": null,
   "id": "8463c1bd-b88e-4b9d-b514-c3a033f3fc47",
   "metadata": {},
   "outputs": [],
   "source": [
    "song_links[:5]"
   ]
  },
  {
   "cell_type": "code",
   "execution_count": null,
   "id": "064c4c4a-3863-440e-96dd-fd486434b5c3",
   "metadata": {},
   "outputs": [],
   "source": [
    "song_url = 'https://amdm.ru/akkordi/korol_i_shut/2187/gimn_shuta/'\n",
    "song_page = requests.get(song_url)\n",
    "song_html = BeautifulSoup(song_page.text)"
   ]
  },
  {
   "cell_type": "code",
   "execution_count": null,
   "id": "16033ac3-74b1-4215-906a-e5a418899ec9",
   "metadata": {},
   "outputs": [],
   "source": [
    "song_html"
   ]
  },
  {
   "cell_type": "code",
   "execution_count": null,
   "id": "a97f0b06-6ef0-472d-ac49-4cc8c4da472a",
   "metadata": {},
   "outputs": [],
   "source": [
    "t = song_html.find('pre').text"
   ]
  },
  {
   "cell_type": "code",
   "execution_count": null,
   "id": "9bdc1565-c513-42a0-9c5e-e22c76b747ba",
   "metadata": {},
   "outputs": [],
   "source": [
    "t"
   ]
  },
  {
   "cell_type": "code",
   "execution_count": null,
   "id": "732e5dd9-c057-4eb4-a519-11970505e003",
   "metadata": {},
   "outputs": [],
   "source": [
    "all_songs = ''"
   ]
  },
  {
   "cell_type": "code",
   "execution_count": null,
   "id": "2f3a820e-6164-4dd7-9002-b9d9b93c14bd",
   "metadata": {},
   "outputs": [],
   "source": [
    "from time import sleep"
   ]
  },
  {
   "cell_type": "code",
   "execution_count": null,
   "id": "8fad50d5-baf7-4383-b817-dcc9913f4b6f",
   "metadata": {},
   "outputs": [],
   "source": [
    "for i, page in enumerate(song_links):\n",
    "    sleep(.5)\n",
    "    song_page = requests.get(page)\n",
    "    song_html = BeautifulSoup(song_page.text)\n",
    "    try:\n",
    "        dirty_lyrics = song_html.find('pre').text\n",
    "        # print(song_html.find('pre').text)\n",
    "    except: \n",
    "        pass\n",
    "    # Dkjaskjdhaksjdh\n",
    "    song_lyrics = ''.join([symbol for symbol in dirty_lyrics if not re.findall(\"[A-Z]+\", symbol) and symbol not in ['\\n', '\\r', '\\t', 'm', 'Припев']])\n",
    "    all_songs += song_lyrics\n",
    "    if i % 20 == 0: print(f'{i}, song: {str(song_html.title)[7:-8]}: len of var: {len(all_songs)}, ')"
   ]
  },
  {
   "cell_type": "code",
   "execution_count": null,
   "id": "47f9234c-b5c2-4bec-99f2-02e888940bcb",
   "metadata": {},
   "outputs": [],
   "source": [
    "texts = re.sub(\" +\", \" \", re.sub(\"[a-zA-Z#-^}|]\", \"\", all_songs))\n",
    "with open('kish_lyrics.txt', 'w', encoding='utf8') as file:\n",
    "    file.write(texts)"
   ]
  },
  {
   "cell_type": "code",
   "execution_count": null,
   "id": "7c440f44-fb01-430d-b837-86b3f5519d3f",
   "metadata": {},
   "outputs": [],
   "source": [
    "all_songs"
   ]
  },
  {
   "cell_type": "code",
   "execution_count": null,
   "id": "68ac5b61-bae4-4409-b53f-4975d3135797",
   "metadata": {},
   "outputs": [],
   "source": [
    "re.sub(' +', ' ', ''.join([symbol for symbol in t if not re.findall(\"[A-Z]+\", symbol) and symbol not in ['\\n', '\\r', '\\t', 'm']]))"
   ]
  },
  {
   "cell_type": "code",
   "execution_count": null,
   "id": "541abf4d-a619-4bb6-9287-66badcde72d8",
   "metadata": {},
   "outputs": [],
   "source": []
  }
 ],
 "metadata": {
  "kernelspec": {
   "display_name": "Python 3.9.12 ('base')",
   "language": "python",
   "name": "python3"
  },
  "language_info": {
   "codemirror_mode": {
    "name": "ipython",
    "version": 3
   },
   "file_extension": ".py",
   "mimetype": "text/x-python",
   "name": "python",
   "nbconvert_exporter": "python",
   "pygments_lexer": "ipython3",
   "version": "3.9.12"
  },
  "vscode": {
   "interpreter": {
    "hash": "73ec0c878552fcb71893c22b7af2c9be9210ef33785c90eb804f443984ec4506"
   }
  }
 },
 "nbformat": 4,
 "nbformat_minor": 5
}
